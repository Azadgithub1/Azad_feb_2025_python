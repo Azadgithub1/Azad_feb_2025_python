{
 "cells": [
  {
   "cell_type": "code",
   "execution_count": 1,
   "id": "191620df-4a76-4a88-b144-d443a10de273",
   "metadata": {},
   "outputs": [
    {
     "name": "stdout",
     "output_type": "stream",
     "text": [
      "hello\n",
      "10\n"
     ]
    }
   ],
   "source": [
    "a=10\n",
    "b=0\n",
    "# a/b\n",
    "print(\"hello\")\n",
    "print(a+b)\n"
   ]
  },
  {
   "cell_type": "code",
   "execution_count": 2,
   "id": "1edb84e6-bf35-4757-b6af-f52754d701ad",
   "metadata": {},
   "outputs": [
    {
     "name": "stdout",
     "output_type": "stream",
     "text": [
      "hi\n",
      "the value a is 10\n",
      "1.0\n",
      "you will not get error\n",
      "hi azad\n"
     ]
    }
   ],
   "source": [
    "try:\n",
    "    a=10\n",
    "    b=10\n",
    "    print(\"hi\")\n",
    "    print(\"the value a is\",a)\n",
    "    print(a/b)\n",
    "    print(\"you will not get error\")\n",
    "    print(10/0)\n",
    "except:\n",
    "    print(\"hi azad\")  "
   ]
  },
  {
   "cell_type": "code",
   "execution_count": 3,
   "id": "6aee1b44-1f56-4505-a27b-2467f9645f4e",
   "metadata": {},
   "outputs": [
    {
     "name": "stdout",
     "output_type": "stream",
     "text": [
      "4\n"
     ]
    }
   ],
   "source": [
    "print(4)"
   ]
  },
  {
   "cell_type": "code",
   "execution_count": 4,
   "id": "01a6e517-68e5-4324-a228-3f628cbc2859",
   "metadata": {},
   "outputs": [
    {
     "name": "stdout",
     "output_type": "stream",
     "text": [
      "hi\n",
      "hello\n"
     ]
    },
    {
     "name": "stdin",
     "output_type": "stream",
     "text": [
      "enter a number 50\n",
      "enter b  15\n"
     ]
    },
    {
     "name": "stdout",
     "output_type": "stream",
     "text": [
      "65\n",
      "how are you\n",
      "bye\n"
     ]
    }
   ],
   "source": [
    "print(\"hi\")\n",
    "print(\"hello\")\n",
    "try:\n",
    "    a=eval(input(\"enter a number\"))\n",
    "    b=eval(input(\"enter b \"))\n",
    "    add=a+b\n",
    "    print(add)\n",
    "    print(20/0)\n",
    "except:\n",
    "    print(\"how are you\")\n",
    "    print('bye')\n",
    "else:\n",
    "    print(\"hello world\")\n",
    "    "
   ]
  },
  {
   "cell_type": "code",
   "execution_count": 5,
   "id": "2ba20d28-efd4-4f14-b548-20aa0f2ee22d",
   "metadata": {},
   "outputs": [
    {
     "name": "stdin",
     "output_type": "stream",
     "text": [
      "enter the number 50\n"
     ]
    },
    {
     "name": "stdout",
     "output_type": "stream",
     "text": [
      "even\n"
     ]
    }
   ],
   "source": [
    "import random \n",
    "try:\n",
    "    num=eval(input(\"enter the number\"))\n",
    "    if num%2==0:\n",
    "        print(\"even\")\n",
    "    else:\n",
    "        print('odd')\n",
    "except exception as e:\n",
    "    print(e)"
   ]
  },
  {
   "cell_type": "code",
   "execution_count": 6,
   "id": "deeb4cfd-d5ee-4c0b-826d-f65b7c54f7b8",
   "metadata": {},
   "outputs": [
    {
     "name": "stdin",
     "output_type": "stream",
     "text": [
      "enter the num2 50\n"
     ]
    },
    {
     "name": "stdout",
     "output_type": "stream",
     "text": [
      "you loss\n",
      "12\n"
     ]
    }
   ],
   "source": [
    "import random\n",
    "num1=random.randint(10,20)\n",
    "num2=eval(input(\"enter the num2\"))\n",
    "if num1==num2:\n",
    "    print(\"you won\")\n",
    "else:\n",
    "    print(\"you loss\")\n",
    "    print(f\"{num1}\")"
   ]
  },
  {
   "cell_type": "code",
   "execution_count": 7,
   "id": "b9a79984-e5d5-45a5-aa5d-138fd134bdea",
   "metadata": {},
   "outputs": [
    {
     "name": "stdin",
     "output_type": "stream",
     "text": [
      "enter the distance 40\n",
      "enter the charge 60\n"
     ]
    },
    {
     "name": "stdout",
     "output_type": "stream",
     "text": [
      "60\n",
      "you pay the amount:2400\n"
     ]
    }
   ],
   "source": [
    "distance=eval(input(\"enter the distance\"))\n",
    "if distance>25:\n",
    "    charge=eval(input(\"enter the charge\"))\n",
    "    print(charge)\n",
    "    total=distance*charge\n",
    "    print(f\"you pay the amount:{total}\")\n",
    "else:\n",
    "    print(\"enjoy free ride\")"
   ]
  },
  {
   "cell_type": "code",
   "execution_count": 8,
   "id": "91b868ee-1bbf-4b56-ad72-234ab6cc4041",
   "metadata": {},
   "outputs": [
    {
     "name": "stdin",
     "output_type": "stream",
     "text": [
      "num 40\n"
     ]
    },
    {
     "name": "stdout",
     "output_type": "stream",
     "text": [
      "invalid\n"
     ]
    }
   ],
   "source": [
    "num=eval(input(\"num\"))\n",
    "if num==1:\n",
    "    print(1)\n",
    "elif num==2:\n",
    "    print(2)\n",
    "  \n",
    "elif num==3:\n",
    "    print(3)\n",
    "        \n",
    "else:\n",
    "    print(\"invalid\")"
   ]
  },
  {
   "cell_type": "code",
   "execution_count": 18,
   "id": "f5dbd690-24e8-45c9-9863-c4b24585e353",
   "metadata": {},
   "outputs": [
    {
     "name": "stdin",
     "output_type": "stream",
     "text": [
      "enter the number 90\n",
      "enter the num2 90\n",
      "enter the marks3 90\n"
     ]
    },
    {
     "name": "stdout",
     "output_type": "stream",
     "text": [
      "you are grade:a with : 90.0\n"
     ]
    }
   ],
   "source": [
    "sub1=eval(input(\"enter the number\"))\n",
    "sub2=eval(input(\"enter the num2\"))\n",
    "sub3=eval(input(\"enter the marks3\"))\n",
    "percentage=round((sub1+sub2+sub3)/3,2)\n",
    "if percentage>=90:\n",
    "    print(f\"you are grade:a with : {percentage}\")\n",
    "elif percentage >=70:\n",
    "    print(f\"you are grade:b with: {percentage}\")\n",
    "elif percentage>=50:\n",
    "    print(f\"pass grade c {percentage}\")\n",
    "elif percentage >=30:\n",
    "    print(\"pass\")\n",
    "else:\n",
    "    print(\"fail\")"
   ]
  },
  {
   "cell_type": "code",
   "execution_count": 58,
   "id": "c96e8b4a-7107-4776-95ba-8723ba9dc9c8",
   "metadata": {},
   "outputs": [
    {
     "name": "stdin",
     "output_type": "stream",
     "text": [
      "enter the age 51\n"
     ]
    },
    {
     "name": "stdout",
     "output_type": "stream",
     "text": [
      "sc\n"
     ]
    }
   ],
   "source": [
    "age=eval(input(\"enter the age\"))\n",
    "if age>90:\n",
    "    print(\"lucky man\")\n",
    "elif age>=70:\n",
    "    print(\"old man\")\n",
    "elif age>=51:\n",
    "    print(\"sc\")\n",
    "elif age>=35:\n",
    "    print(\"middle aged\")\n",
    "elif age>=21:\n",
    "    print(\"young\")\n",
    "elif age>=13:\n",
    "    print(\"teen\")\n",
    "else:\n",
    "    print(\"kid\")\n",
    "    "
   ]
  },
  {
   "cell_type": "code",
   "execution_count": 59,
   "id": "aab0ba8d-01d0-4060-b05c-08bb4c3ce71d",
   "metadata": {},
   "outputs": [
    {
     "name": "stdout",
     "output_type": "stream",
     "text": [
      "the 92 of square of 8464\n"
     ]
    }
   ],
   "source": [
    "import random\n",
    "num=random.randint(10,100)\n",
    "print(f\"the {num} of square of {num*num}\")\n",
    "    "
   ]
  },
  {
   "cell_type": "code",
   "execution_count": 60,
   "id": "efb00645-7ef1-4941-b0e4-daa5e79f1668",
   "metadata": {},
   "outputs": [
    {
     "name": "stdout",
     "output_type": "stream",
     "text": [
      " the number of 20 are :400 \n",
      " the number of 36 are :1296 \n",
      " the number of 71 are :5041 \n",
      " the number of 25 are :625 \n",
      " the number of 86 are :7396 \n"
     ]
    }
   ],
   "source": [
    "for i in range(5):\n",
    "    num=random.randint(10,100)\n",
    "    print(f\" the number of {num} are :{num*num} \")"
   ]
  },
  {
   "cell_type": "code",
   "execution_count": 62,
   "id": "14d121f2-5251-45ab-8841-15c51cc81a0f",
   "metadata": {},
   "outputs": [
    {
     "name": "stdout",
     "output_type": "stream",
     "text": [
      "the square of 88 7744\n",
      "None\n",
      "the square of 48 2304\n",
      "None\n",
      "the square of 41 1681\n",
      "None\n",
      "the square of 11 121\n",
      "None\n",
      "the square of 93 8649\n",
      "None\n"
     ]
    }
   ],
   "source": [
    "def square():\n",
    "    num1=random.randint(1,100)\n",
    "    print(f\"the square of {num1} {num1*num1}\")\n",
    "for i in range(5):\n",
    "    ans=square()\n",
    "    print(ans)\n",
    "    "
   ]
  },
  {
   "cell_type": "code",
   "execution_count": null,
   "id": "764fd457-975a-400c-b8f9-1546f999c891",
   "metadata": {},
   "outputs": [],
   "source": []
  }
 ],
 "metadata": {
  "kernelspec": {
   "display_name": "Python 3 (ipykernel)",
   "language": "python",
   "name": "python3"
  },
  "language_info": {
   "codemirror_mode": {
    "name": "ipython",
    "version": 3
   },
   "file_extension": ".py",
   "mimetype": "text/x-python",
   "name": "python",
   "nbconvert_exporter": "python",
   "pygments_lexer": "ipython3",
   "version": "3.11.7"
  }
 },
 "nbformat": 4,
 "nbformat_minor": 5
}
