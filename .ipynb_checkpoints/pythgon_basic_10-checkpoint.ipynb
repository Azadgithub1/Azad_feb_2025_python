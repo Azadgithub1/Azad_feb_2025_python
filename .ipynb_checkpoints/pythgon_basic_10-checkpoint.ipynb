{
 "cells": [
  {
   "cell_type": "code",
   "execution_count": 15,
   "id": "60ff2442-60b1-4158-9fb6-e9fe87cd93d7",
   "metadata": {},
   "outputs": [],
   "source": [
    "import numpy as np\n",
    "from scipy.stats import norm\n",
    "from scipy import stats\n",
    "mean=50\n",
    "std_dev=5\n",
    "data=np.random.normal(mean, std_dev, 10000)"
   ]
  },
  {
   "cell_type": "code",
   "execution_count": 5,
   "id": "b54453fd-1030-4fcf-ada4-18fddaa4605d",
   "metadata": {},
   "outputs": [
    {
     "data": {
      "text/plain": [
       "array([53.03702278, 45.83250504, 51.39453498, ..., 49.74635199,\n",
       "       42.77785268, 51.62374863])"
      ]
     },
     "execution_count": 5,
     "metadata": {},
     "output_type": "execute_result"
    }
   ],
   "source": [
    "data"
   ]
  },
  {
   "cell_type": "code",
   "execution_count": 23,
   "id": "7fcf397c-3c82-4064-bc11-2e908f4f6490",
   "metadata": {},
   "outputs": [
    {
     "data": {
      "text/plain": [
       "8.5"
      ]
     },
     "execution_count": 23,
     "metadata": {},
     "output_type": "execute_result"
    }
   ],
   "source": [
    "a=[1,7,8,9,7,4,3,6,2,9,8,9,7]\n",
    "b=[1,2,3,4,6,8,9,9,9,10,11,12]\n",
    "np.median(b)"
   ]
  },
  {
   "cell_type": "code",
   "execution_count": 26,
   "id": "57db1316-2a1f-4a95-81a4-4db68ef936bc",
   "metadata": {},
   "outputs": [
    {
     "data": {
      "text/plain": [
       "ModeResult(mode=7, count=3)"
      ]
     },
     "execution_count": 26,
     "metadata": {},
     "output_type": "execute_result"
    }
   ],
   "source": [
    "stats.mode(a)"
   ]
  },
  {
   "cell_type": "code",
   "execution_count": 14,
   "id": "628856de-2742-43c1-a5bc-72c7388635d6",
   "metadata": {},
   "outputs": [],
   "source": [
    "def add1():\n",
    "    num1=60\n",
    "    num2=70\n",
    "    sum=num1+num2\n",
    "    return(num2)\n",
    "var1=add1()"
   ]
  },
  {
   "cell_type": "code",
   "execution_count": 15,
   "id": "9917fe09-3794-4164-baf4-c1ce676eef8c",
   "metadata": {},
   "outputs": [
    {
     "data": {
      "text/plain": [
       "70"
      ]
     },
     "execution_count": 15,
     "metadata": {},
     "output_type": "execute_result"
    }
   ],
   "source": [
    "var1"
   ]
  },
  {
   "cell_type": "code",
   "execution_count": 1,
   "id": "8cd605e6-0bf7-4466-b60f-3757e8835ab1",
   "metadata": {},
   "outputs": [
    {
     "name": "stdout",
     "output_type": "stream",
     "text": [
      "300\n",
      "100\n",
      "200\n"
     ]
    }
   ],
   "source": [
    "def add1():\n",
    "    num1=100\n",
    "    num2=200\n",
    "    s11=num1+num2\n",
    "    return(s11, num1, num2)\n",
    "s11, num1, num2=add1()\n",
    "print(s11)\n",
    "print(num1)\n",
    "print(num2)"
   ]
  },
  {
   "cell_type": "code",
   "execution_count": 19,
   "id": "75c3d2ea-dcb6-409d-9c79-afa661651661",
   "metadata": {},
   "outputs": [
    {
     "name": "stdin",
     "output_type": "stream",
     "text": [
      "enter the num1 80\n",
      "enter the num2 50\n",
      "enter the num2 45\n"
     ]
    },
    {
     "name": "stdout",
     "output_type": "stream",
     "text": [
      "58.33\n",
      "58.333333333333336\n"
     ]
    }
   ],
   "source": [
    "def avg():\n",
    "    n1=eval(input(\"enter the num1\"))\n",
    "    n2=eval(input(\"enter the num2\"))\n",
    "    n3=eval(input(\"enter the num2\"))\n",
    "    average=(n1+n2+n3)/3\n",
    "    average1=round(average,2)\n",
    "    print(average1)\n",
    "    print(average)\n",
    "    return(average1,average)\n",
    "AVERAGE1,AVERAGE=avg()"
   ]
  },
  {
   "cell_type": "code",
   "execution_count": 20,
   "id": "3795e3f7-6795-43f9-9018-3c70eac023be",
   "metadata": {},
   "outputs": [
    {
     "data": {
      "text/plain": [
       "58.33"
      ]
     },
     "execution_count": 20,
     "metadata": {},
     "output_type": "execute_result"
    }
   ],
   "source": [
    "AVERAGE1"
   ]
  },
  {
   "cell_type": "code",
   "execution_count": 22,
   "id": "766b4770-82fb-4ff6-8d2d-8d44d85185d2",
   "metadata": {},
   "outputs": [
    {
     "data": {
      "text/plain": [
       "58.333333333333336"
      ]
     },
     "execution_count": 22,
     "metadata": {},
     "output_type": "execute_result"
    }
   ],
   "source": [
    "AVERAGE"
   ]
  },
  {
   "cell_type": "code",
   "execution_count": 27,
   "id": "ff4b7add-736b-4780-ac8b-d6a586053642",
   "metadata": {},
   "outputs": [
    {
     "name": "stdout",
     "output_type": "stream",
     "text": [
      "30 10 20\n",
      "None\n"
     ]
    }
   ],
   "source": [
    "def add1():\n",
    "    num1 = 10\n",
    "    num2 = 20\n",
    "    s111 = num1+num2\n",
    "    print(s111, num1, num2)\n",
    "s111=add1()\n",
    "print(s111)"
   ]
  },
  {
   "cell_type": "code",
   "execution_count": 31,
   "id": "fbdb35a9-081b-4eae-8fc1-4a0c281c2a5c",
   "metadata": {},
   "outputs": [
    {
     "name": "stdin",
     "output_type": "stream",
     "text": [
      "Enter the 1st number:  90\n",
      "Enter the 2nd number:  50\n",
      "Enter the 3rd number:  30\n"
     ]
    }
   ],
   "source": [
    "def avg():\n",
    "    n1=eval(input(\"Enter the 1st number: \"))\n",
    "    n2=eval(input(\"Enter the 2nd number: \"))\n",
    "    n3=eval(input(\"Enter the 3rd number: \"))\n",
    "    AVG=(n1+n2+n3)/3\n",
    "    avg1=round(AVG,2)\n",
    "    return(AVG,avg1)\n",
    "    #print(f\"The average of the three numbers is:, avg\")\n",
    "AVG, avg1=avg()"
   ]
  },
  {
   "cell_type": "code",
   "execution_count": 33,
   "id": "620893d0-200a-470c-8389-01768e2e1998",
   "metadata": {},
   "outputs": [
    {
     "data": {
      "text/plain": [
       "56.666666666666664"
      ]
     },
     "execution_count": 33,
     "metadata": {},
     "output_type": "execute_result"
    }
   ],
   "source": [
    "AVG"
   ]
  },
  {
   "cell_type": "code",
   "execution_count": 35,
   "id": "37e2b801-1c96-44d5-9271-507682673c4f",
   "metadata": {},
   "outputs": [
    {
     "name": "stdout",
     "output_type": "stream",
     "text": [
      "100 20000\n"
     ]
    }
   ],
   "source": [
    "def mul():\n",
    "    a=100\n",
    "    b=200\n",
    "    multiplication=a*b\n",
    "    return(a,multiplication)\n",
    "a,multiplication=mul()\n",
    "print(a,multiplication)"
   ]
  },
  {
   "cell_type": "code",
   "execution_count": 39,
   "id": "4dd5a519-ef89-4e3c-b0c0-3c60d61274d6",
   "metadata": {},
   "outputs": [
    {
     "name": "stdout",
     "output_type": "stream",
     "text": [
      "Total bill amount is 1050.0\n",
      "Tip percentage is 5\n"
     ]
    }
   ],
   "source": [
    "tip_per=20\n",
    "def bill(bill_amt,tip) :\n",
    "    global tip_per\n",
    "    tip_per=5\n",
    "    total=(bill_amt+(bill_amt*tip_per)/100)\n",
    "    return(total)\n",
    "\n",
    "tot=bill(1000,10)\n",
    "\n",
    "print(f\"Total bill amount is {tot}\")\n",
    "print(f\"Tip percentage is {tip_per}\")"
   ]
  },
  {
   "cell_type": "code",
   "execution_count": 40,
   "id": "99cadc6d-9015-4a3e-8ebf-7e668921161e",
   "metadata": {},
   "outputs": [
    {
     "data": {
      "text/plain": [
       "5"
      ]
     },
     "execution_count": 40,
     "metadata": {},
     "output_type": "execute_result"
    }
   ],
   "source": [
    "tip_per"
   ]
  },
  {
   "cell_type": "code",
   "execution_count": 44,
   "id": "f7e106c6-5c61-4e31-932c-4e3bccbbc174",
   "metadata": {},
   "outputs": [
    {
     "name": "stdout",
     "output_type": "stream",
     "text": [
      "===calling greet1 function=======\n",
      "===calling greet2 function=======\n",
      "good night\n",
      "good morning\n"
     ]
    }
   ],
   "source": [
    "def greet1():\n",
    "    print(\"===calling greet1 function=======\")\n",
    "    greet2()\n",
    "    print(\"good morning\")\n",
    "def greet2():\n",
    "    print(\"===calling greet2 function=======\")\n",
    "    print(\"good night\")\n",
    "greet1()"
   ]
  },
  {
   "cell_type": "code",
   "execution_count": 48,
   "id": "5cb356ce-d99b-43ee-86ea-ae06b6e05b9e",
   "metadata": {},
   "outputs": [
    {
     "name": "stdout",
     "output_type": "stream",
     "text": [
      "===calling greet2 function=======\n",
      "===calling greet1 function=======\n",
      "good morning\n",
      "good night\n"
     ]
    }
   ],
   "source": [
    "def greet1():\n",
    "    print(\"===calling greet1 function=======\")\n",
    "    print(\"good morning\")\n",
    "greet2()\n",
    "def greet2():\n",
    "    print(\"===calling greet2 function=======\")\n",
    "    greet1()\n",
    "    print(\"good night\")"
   ]
  },
  {
   "cell_type": "code",
   "execution_count": 50,
   "id": "4678a566-e909-4823-959c-9ff9983f2f28",
   "metadata": {},
   "outputs": [
    {
     "name": "stdout",
     "output_type": "stream",
     "text": [
      "===calling greet1 function=======\n",
      "good morning\n"
     ]
    }
   ],
   "source": [
    "greet1()\n",
    "def greet1():\n",
    "    print(\"===calling greet1 function=======\")\n",
    "    print(\"good morning\")"
   ]
  },
  {
   "cell_type": "code",
   "execution_count": 53,
   "id": "bac91d9b-7cf1-40e7-9c49-992681feb85f",
   "metadata": {},
   "outputs": [
    {
     "name": "stdout",
     "output_type": "stream",
     "text": [
      "Hello\n"
     ]
    }
   ],
   "source": [
    "def greet1():\n",
    "    print(\"Hello\")\n",
    "greet1()"
   ]
  },
  {
   "cell_type": "code",
   "execution_count": 54,
   "id": "12ad63ce-0a73-442e-a908-06ce76ba4518",
   "metadata": {},
   "outputs": [
    {
     "name": "stdout",
     "output_type": "stream",
     "text": [
      "30\n",
      "-10\n"
     ]
    }
   ],
   "source": [
    "def add():\n",
    "    a=10\n",
    "    b=20\n",
    "    print(a+b)\n",
    "def sub():\n",
    "    a=10\n",
    "    b=20\n",
    "    print(a-b)\n",
    "def math_operations():\n",
    "    add()\n",
    "    sub()\n",
    "math_operations()"
   ]
  },
  {
   "cell_type": "code",
   "execution_count": 67,
   "id": "795baf38-5171-4767-b9c9-a310a23fb497",
   "metadata": {},
   "outputs": [
    {
     "name": "stdout",
     "output_type": "stream",
     "text": [
      "100\n",
      "60\n"
     ]
    }
   ],
   "source": [
    "def addition1(a3,b3):\n",
    "    print(a3+b3)\n",
    "def subtraction1(c3,d3):\n",
    "    print(c3-d3)\n",
    "def math_operations(e1,e2):\n",
    "    addition1(80,20)\n",
    "    subtraction1(100,40)\n",
    "math_operations(70,60)"
   ]
  },
  {
   "cell_type": "code",
   "execution_count": null,
   "id": "fb607e80-9706-43ce-a7c2-f05417ff4697",
   "metadata": {},
   "outputs": [],
   "source": []
  }
 ],
 "metadata": {
  "kernelspec": {
   "display_name": "Python 3 (ipykernel)",
   "language": "python",
   "name": "python3"
  },
  "language_info": {
   "codemirror_mode": {
    "name": "ipython",
    "version": 3
   },
   "file_extension": ".py",
   "mimetype": "text/x-python",
   "name": "python",
   "nbconvert_exporter": "python",
   "pygments_lexer": "ipython3",
   "version": "3.11.7"
  }
 },
 "nbformat": 4,
 "nbformat_minor": 5
}
