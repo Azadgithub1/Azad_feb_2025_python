{
 "cells": [
  {
   "cell_type": "code",
   "execution_count": 5,
   "id": "b26bab07-09a4-439e-8ee9-f7a28f3b4092",
   "metadata": {},
   "outputs": [
    {
     "name": "stdin",
     "output_type": "stream",
     "text": [
      "enter number1: 60\n",
      "enter the number 2: 50\n",
      "enter the number 3: 30\n"
     ]
    },
    {
     "name": "stdout",
     "output_type": "stream",
     "text": [
      "average of 60, 50 and 30 are 46.67\n"
     ]
    }
   ],
   "source": [
    "def average():\n",
    "    num1=eval(input('enter number1:'))\n",
    "    num2=eval(input('enter the number 2:'))\n",
    "    num3=eval(input('enter the number 3:'))\n",
    "    ave=round((num1+num2+num3)/3,2)\n",
    "    print(f\"average of {num1}, {num2} and {num3} are {ave}\")\n",
    "average()"
   ]
  },
  {
   "cell_type": "code",
   "execution_count": 6,
   "id": "c1ce17bd-92a1-43e3-9cbb-266b96a76733",
   "metadata": {},
   "outputs": [
    {
     "name": "stdin",
     "output_type": "stream",
     "text": [
      "enter the number 1000\n",
      "enter the tip 10\n"
     ]
    },
    {
     "name": "stdout",
     "output_type": "stream",
     "text": [
      "1100.0\n"
     ]
    }
   ],
   "source": [
    "def amount():\n",
    "    bill=eval(input(\"enter the number\"))\n",
    "    tip=eval(input(\"enter the tip\"))\n",
    "    total=bill+bill*tip/100\n",
    "    print(total)\n",
    "amount()"
   ]
  },
  {
   "cell_type": "code",
   "execution_count": null,
   "id": "ea03d7cc-7abc-4137-914f-29b8a9229e64",
   "metadata": {},
   "outputs": [],
   "source": []
  }
 ],
 "metadata": {
  "kernelspec": {
   "display_name": "Python 3 (ipykernel)",
   "language": "python",
   "name": "python3"
  },
  "language_info": {
   "codemirror_mode": {
    "name": "ipython",
    "version": 3
   },
   "file_extension": ".py",
   "mimetype": "text/x-python",
   "name": "python",
   "nbconvert_exporter": "python",
   "pygments_lexer": "ipython3",
   "version": "3.11.7"
  }
 },
 "nbformat": 4,
 "nbformat_minor": 5
}
