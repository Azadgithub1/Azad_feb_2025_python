{
 "cells": [
  {
   "cell_type": "markdown",
   "id": "7e5ae359-5abc-4124-814e-ef0826f4efcd",
   "metadata": {},
   "source": [
    "**variable**\n",
    "\n",
    "- dont do more action\n",
    "- do only aCTION"
   ]
  },
  {
   "cell_type": "code",
   "execution_count": 3,
   "id": "1d5f35a8-f9fe-49b8-adf5-88bbafdcbc11",
   "metadata": {},
   "outputs": [
    {
     "name": "stdout",
     "output_type": "stream",
     "text": [
      "0\n",
      "1\n",
      "2\n",
      "3\n",
      "4\n",
      "5\n",
      "6\n",
      "7\n",
      "8\n",
      "9\n",
      "10\n",
      "11\n",
      "12\n",
      "13\n",
      "14\n",
      "15\n",
      "16\n",
      "17\n",
      "18\n",
      "19\n",
      "20\n",
      "21\n",
      "22\n",
      "23\n",
      "24\n",
      "25\n",
      "26\n",
      "27\n",
      "28\n",
      "29\n"
     ]
    }
   ],
   "source": [
    "for i in range(30):\n",
    "    print(i)"
   ]
  },
  {
   "cell_type": "code",
   "execution_count": 4,
   "id": "8d9f3437-b7b3-4110-87b8-eb3eb11eecf1",
   "metadata": {},
   "outputs": [
    {
     "name": "stdout",
     "output_type": "stream",
     "text": [
      "0 1 2 3 4 5 6 7 8 9 10 11 12 13 14 15 16 17 18 19 20 21 22 23 24 25 26 27 28 29 "
     ]
    }
   ],
   "source": [
    "for i in range(30):\n",
    "    print(i, end=' ')"
   ]
  },
  {
   "cell_type": "code",
   "execution_count": 3,
   "id": "cecc7a17-b0fa-498f-99cb-20683c6a9970",
   "metadata": {},
   "outputs": [
    {
     "name": "stdout",
     "output_type": "stream",
     "text": [
      "0 hello 1 hello 2 hello 3 hello 4 hello "
     ]
    }
   ],
   "source": [
    "for i in range(5):\n",
    "    print(i,'hello', end=' ')"
   ]
  },
  {
   "cell_type": "code",
   "execution_count": 4,
   "id": "52e959bc-0e9b-4e3a-9111-a7825d9a73e3",
   "metadata": {},
   "outputs": [
    {
     "name": "stdout",
     "output_type": "stream",
     "text": [
      "1\n",
      "4\n",
      "9\n",
      "16\n",
      "25\n"
     ]
    }
   ],
   "source": [
    "for i in range(1,6):\n",
    "    print(i*i)"
   ]
  },
  {
   "cell_type": "code",
   "execution_count": 5,
   "id": "c461ea92-a4eb-443c-b127-e2598b6e901f",
   "metadata": {},
   "outputs": [
    {
     "name": "stdout",
     "output_type": "stream",
     "text": [
      " the square of 83 is 6889\n",
      " the square of 97 is 9409\n",
      " the square of 42 is 1764\n",
      " the square of 88 is 7744\n",
      " the square of 94 is 8836\n",
      " the square of 65 is 4225\n"
     ]
    }
   ],
   "source": [
    "import random\n",
    "for i in range(6):\n",
    "    num=random.randint(1,100)\n",
    "    print(f\" the square of {num} is {num*num}\")"
   ]
  },
  {
   "cell_type": "code",
   "execution_count": 6,
   "id": "cb8aaf0e-9606-44eb-aed7-d2908b5fe31e",
   "metadata": {},
   "outputs": [
    {
     "name": "stdout",
     "output_type": "stream",
     "text": [
      " the square of 38 is 1444\n",
      " the square of 39 is 1521\n",
      " the square of 8 is 64\n",
      " the square of 17 is 289\n",
      " the square of 48 is 2304\n",
      " the square of 7 is 49\n",
      " the square of 49 is 2401\n",
      " the square of 1 is 1\n",
      " the square of 19 is 361\n",
      " the square of 43 is 1849\n"
     ]
    }
   ],
   "source": [
    "def abc():\n",
    "    num1=random.randint(1,50)\n",
    "    print(f\" the square of {num1} is {num1*num1}\")\n",
    "\n",
    "for i in range(10):\n",
    "    abc()\n"
   ]
  },
  {
   "cell_type": "code",
   "execution_count": 7,
   "id": "0707f227-084d-4923-8480-90a256163a6e",
   "metadata": {},
   "outputs": [
    {
     "name": "stdout",
     "output_type": "stream",
     "text": [
      "110 110 110 110 110 "
     ]
    }
   ],
   "source": [
    "def add():\n",
    "    a=20\n",
    "    b=90\n",
    "    add1=a+b\n",
    "    print(add1, end=' ')\n",
    "for i in range(5):\n",
    "    add()"
   ]
  },
  {
   "cell_type": "code",
   "execution_count": 8,
   "id": "687f7eae-2a27-467e-82e4-a6064928957e",
   "metadata": {},
   "outputs": [
    {
     "name": "stdout",
     "output_type": "stream",
     "text": [
      " the 11 is a odd number\n",
      " the 12 is a even number\n",
      " the 13 is a odd number\n",
      " the 14 is a even number\n",
      " the 15 is a odd number\n",
      " the 16 is a even number\n",
      " the 17 is a odd number\n",
      " the 18 is a even number\n",
      " the 19 is a odd number\n"
     ]
    }
   ],
   "source": [
    "for i in range(11,20):\n",
    "    if i%2==0:\n",
    "        print(f\" the {i} is a even number\")\n",
    "    else:\n",
    "        print(f\" the {i} is a odd number\") "
   ]
  },
  {
   "cell_type": "code",
   "execution_count": 9,
   "id": "f9d23292-d08a-4166-bff0-1f90a1e8606b",
   "metadata": {},
   "outputs": [
    {
     "name": "stdin",
     "output_type": "stream",
     "text": [
      "enter the number 90\n"
     ]
    },
    {
     "name": "stdout",
     "output_type": "stream",
     "text": [
      " the 90 is a even number\n"
     ]
    },
    {
     "name": "stdin",
     "output_type": "stream",
     "text": [
      "enter the number 87\n"
     ]
    },
    {
     "name": "stdout",
     "output_type": "stream",
     "text": [
      " the 87 is a odd number \n"
     ]
    },
    {
     "name": "stdin",
     "output_type": "stream",
     "text": [
      "enter the number 67\n"
     ]
    },
    {
     "name": "stdout",
     "output_type": "stream",
     "text": [
      " the 67 is a odd number \n"
     ]
    },
    {
     "name": "stdin",
     "output_type": "stream",
     "text": [
      "enter the number 87\n"
     ]
    },
    {
     "name": "stdout",
     "output_type": "stream",
     "text": [
      " the 87 is a odd number \n"
     ]
    },
    {
     "name": "stdin",
     "output_type": "stream",
     "text": [
      "enter the number 56\n"
     ]
    },
    {
     "name": "stdout",
     "output_type": "stream",
     "text": [
      " the 56 is a even number\n"
     ]
    }
   ],
   "source": [
    "for i in range(5):\n",
    "    num=int(input(\"enter the number\"))\n",
    "    if num%2==0:\n",
    "        print(f\" the {num} is a even number\")\n",
    "    else:\n",
    "        print(f\" the {num} is a odd number \")"
   ]
  },
  {
   "cell_type": "code",
   "execution_count": 10,
   "id": "28552540-1cb7-4938-8a3d-e28697c73ae6",
   "metadata": {},
   "outputs": [
    {
     "name": "stdout",
     "output_type": "stream",
     "text": [
      " the square of 1 will be 1\n",
      " the square of 2 will be 4\n",
      " the square of 3 will be 9\n",
      " the square of 4 will be 16\n"
     ]
    }
   ],
   "source": [
    "for i in range(1,5):\n",
    "    print(f\" the square of {i} will be {i*i}\")"
   ]
  },
  {
   "cell_type": "code",
   "execution_count": 11,
   "id": "2466dad1-b8f3-4a5f-8217-8a64fb859b2c",
   "metadata": {},
   "outputs": [
    {
     "name": "stdout",
     "output_type": "stream",
     "text": [
      " the square of 61 will be 3721\n",
      " the square of 15 will be 225\n",
      " the square of 37 will be 1369\n",
      " the square of 39 will be 1521\n",
      " the square of 95 will be 9025\n"
     ]
    }
   ],
   "source": [
    "for i in range(5):\n",
    "    a=random.randint(10,100)\n",
    "    print(f\" the square of {a} will be {a*a}\")"
   ]
  },
  {
   "cell_type": "code",
   "execution_count": 12,
   "id": "d6331c82-8433-4094-a1aa-9a2ac195394b",
   "metadata": {},
   "outputs": [
    {
     "name": "stdout",
     "output_type": "stream",
     "text": [
      " the square of 46 will be 2116\n",
      " the square of 22 will be 484\n",
      " the square of 94 will be 8836\n",
      " the square of 99 will be 9801\n",
      " the square of 100 will be 10000\n"
     ]
    }
   ],
   "source": [
    "def new():\n",
    "    a=random.randint(10,100)\n",
    "    print(f\" the square of {a} will be {a*a}\")\n",
    "for i in range(5):\n",
    "    new()\n",
    "       "
   ]
  },
  {
   "cell_type": "code",
   "execution_count": 13,
   "id": "0d54b222-edfc-4e04-8b0a-168c52d398de",
   "metadata": {},
   "outputs": [
    {
     "name": "stdout",
     "output_type": "stream",
     "text": [
      " the number 1 is an odd number\n",
      " the number 2 is even number\n",
      " the number 3 is an odd number\n",
      " the number 4 is even number\n",
      " the number 5 is an odd number\n",
      " the number 6 is even number\n",
      " the number 7 is an odd number\n",
      " the number 8 is even number\n",
      " the number 9 is an odd number\n",
      " the number 10 is even number\n",
      " the number 11 is an odd number\n",
      " the number 12 is even number\n",
      " the number 13 is an odd number\n",
      " the number 14 is even number\n",
      " the number 15 is an odd number\n",
      " the number 16 is even number\n",
      " the number 17 is an odd number\n",
      " the number 18 is even number\n",
      " the number 19 is an odd number\n",
      " the number 20 is even number\n"
     ]
    }
   ],
   "source": [
    "for i in range(1,21):\n",
    "    if i%2==0:\n",
    "        print(f\" the number {i} is even number\")\n",
    "    else:\n",
    "        print(f\" the number {i} is an odd number\")"
   ]
  },
  {
   "cell_type": "code",
   "execution_count": 14,
   "id": "022ebbd2-df12-43b3-9f6c-f72520527c6b",
   "metadata": {},
   "outputs": [
    {
     "name": "stdin",
     "output_type": "stream",
     "text": [
      "enter the number 67\n"
     ]
    },
    {
     "name": "stdout",
     "output_type": "stream",
     "text": [
      " the 67.0 is an odd number\n"
     ]
    },
    {
     "name": "stdin",
     "output_type": "stream",
     "text": [
      "enter the number 89\n"
     ]
    },
    {
     "name": "stdout",
     "output_type": "stream",
     "text": [
      " the 89.0 is an odd number\n"
     ]
    },
    {
     "name": "stdin",
     "output_type": "stream",
     "text": [
      "enter the number 90\n"
     ]
    },
    {
     "name": "stdout",
     "output_type": "stream",
     "text": [
      "90.0 is an even number\n"
     ]
    },
    {
     "name": "stdin",
     "output_type": "stream",
     "text": [
      "enter the number 0\n"
     ]
    },
    {
     "name": "stdout",
     "output_type": "stream",
     "text": [
      "0.0 is an even number\n"
     ]
    },
    {
     "name": "stdin",
     "output_type": "stream",
     "text": [
      "enter the number 60\n"
     ]
    },
    {
     "name": "stdout",
     "output_type": "stream",
     "text": [
      "60.0 is an even number\n"
     ]
    }
   ],
   "source": [
    "for i in range(5):\n",
    "    num=float(input(\"enter the number\"))\n",
    "    if num%2==0:\n",
    "        print(num, \"is an even number\" )\n",
    "    else:\n",
    "        print(f\" the {num} is an odd number\")"
   ]
  },
  {
   "cell_type": "code",
   "execution_count": 15,
   "id": "4e01af71-b1c7-4bb1-9bc5-6380779f14f0",
   "metadata": {},
   "outputs": [
    {
     "name": "stdout",
     "output_type": "stream",
     "text": [
      "5 10 15 20 25 30 35 40 45 50 "
     ]
    }
   ],
   "source": [
    "for i in range(5,51, 5):\n",
    "    print(i, end=' ')"
   ]
  },
  {
   "cell_type": "code",
   "execution_count": 16,
   "id": "7d5fca51-b193-472c-97ae-40bfa89a4c13",
   "metadata": {},
   "outputs": [],
   "source": [
    "for i in range(2, 20, -2):\n",
    "    print(i, end=' ')"
   ]
  },
  {
   "cell_type": "code",
   "execution_count": 17,
   "id": "6b4d1000-024d-4904-972c-87b38ade7eca",
   "metadata": {},
   "outputs": [
    {
     "name": "stdout",
     "output_type": "stream",
     "text": [
      "42 of square 1764\n",
      "85 of square 7225\n",
      "100 of square 10000\n",
      "16 of square 256\n",
      "95 of square 9025\n"
     ]
    }
   ],
   "source": [
    "for i in range(5):\n",
    "    num=random.randint(10,100)\n",
    "    print(num,\"of square\", num*num)"
   ]
  },
  {
   "cell_type": "code",
   "execution_count": 18,
   "id": "02f472b6-f6db-4f0e-b455-9f2120178ec1",
   "metadata": {},
   "outputs": [
    {
     "name": "stdout",
     "output_type": "stream",
     "text": [
      "the square of 51 is 2601\n",
      "the square of 46 is 2116\n",
      "the square of 56 is 3136\n",
      "the square of 15 is 225\n",
      "the square of 93 is 8649\n"
     ]
    }
   ],
   "source": [
    "def fed():\n",
    "    num=random.randint(10,100)\n",
    "    print(\"the square of\", num, \"is\", num*num)\n",
    "for i in range(5):\n",
    "    fed()\n",
    "    "
   ]
  },
  {
   "cell_type": "code",
   "execution_count": 19,
   "id": "c196ecc9-9666-41aa-89e7-cd022335f69b",
   "metadata": {},
   "outputs": [
    {
     "name": "stdout",
     "output_type": "stream",
     "text": [
      "1\n",
      "2\n",
      "5\n",
      "10\n",
      "25\n",
      "50\n"
     ]
    }
   ],
   "source": [
    "for i in range(1,50+1):\n",
    "    if 50%i==0:\n",
    "        print(i)"
   ]
  },
  {
   "cell_type": "code",
   "execution_count": 29,
   "id": "f7a21159-b93a-45ed-83a2-c7ff4337132d",
   "metadata": {},
   "outputs": [
    {
     "name": "stdin",
     "output_type": "stream",
     "text": [
      "enter the number 32\n"
     ]
    },
    {
     "name": "stdout",
     "output_type": "stream",
     "text": [
      "1\n",
      "2\n",
      "4\n",
      "8\n",
      "16\n",
      "32\n"
     ]
    }
   ],
   "source": [
    "num=eval(input(\"enter the number\"))\n",
    "for i in range(1, num+1):\n",
    "    if num%i==0:\n",
    "        print(i)"
   ]
  },
  {
   "cell_type": "code",
   "execution_count": 21,
   "id": "6854a07f-edd8-43c2-826f-17b98a63f0d8",
   "metadata": {},
   "outputs": [
    {
     "name": "stdout",
     "output_type": "stream",
     "text": [
      "1\n",
      "2\n",
      "5\n",
      "10\n",
      "25\n",
      "50\n"
     ]
    }
   ],
   "source": [
    "def divisors(num):\n",
    "    for i in range(1, num+1):\n",
    "        if num%i==0:\n",
    "            print(i)\n",
    "divisors(50)"
   ]
  },
  {
   "cell_type": "code",
   "execution_count": 22,
   "id": "beb6bc00-5310-4963-9b5a-ede7839e1506",
   "metadata": {},
   "outputs": [
    {
     "name": "stdout",
     "output_type": "stream",
     "text": [
      "55\n"
     ]
    }
   ],
   "source": [
    "s=0\n",
    "for i in range(1,11):\n",
    "    s=s+i\n",
    "print(s)"
   ]
  },
  {
   "cell_type": "code",
   "execution_count": 23,
   "id": "c26fddb6-c41e-4144-bffd-7941b1396c85",
   "metadata": {},
   "outputs": [
    {
     "name": "stdout",
     "output_type": "stream",
     "text": [
      "The sum of first 10 natural numbers are: 55\n"
     ]
    }
   ],
   "source": [
    "s=0\n",
    "for i in range(1,11):\n",
    "    s=s+i\n",
    "print(\"The sum of first 10 natural numbers are:\",s)"
   ]
  },
  {
   "cell_type": "code",
   "execution_count": 52,
   "id": "a511757e-cc4e-41c7-9d33-580f07037cd4",
   "metadata": {},
   "outputs": [
    {
     "name": "stdout",
     "output_type": "stream",
     "text": [
      "The sum of first 10 natural numbers are: 1\n",
      "The sum of first 10 natural numbers are: 3\n",
      "The sum of first 10 natural numbers are: 6\n",
      "The sum of first 10 natural numbers are: 10\n",
      "The sum of first 10 natural numbers are: 15\n",
      "The sum of first 10 natural numbers are: 21\n",
      "The sum of first 10 natural numbers are: 28\n",
      "The sum of first 10 natural numbers are: 36\n",
      "The sum of first 10 natural numbers are: 45\n",
      "The sum of first 10 natural numbers are: 55\n"
     ]
    }
   ],
   "source": [
    "s=0\n",
    "for i in range(1,11):\n",
    "    s=s+i\n",
    "    print(\"The sum of first 10 natural numbers are:\",s)"
   ]
  },
  {
   "cell_type": "code",
   "execution_count": 28,
   "id": "59b9dffc-0eae-4683-a65e-50a9a5b49d71",
   "metadata": {},
   "outputs": [
    {
     "data": {
      "text/plain": [
       "6"
      ]
     },
     "execution_count": 28,
     "metadata": {},
     "output_type": "execute_result"
    }
   ],
   "source": [
    "l=[1,2,3]\n",
    "sum(l)"
   ]
  },
  {
   "cell_type": "code",
   "execution_count": 32,
   "id": "239e6a6f-cbac-4735-bd2e-c155c0deb2b1",
   "metadata": {},
   "outputs": [
    {
     "data": {
      "text/plain": [
       "['False',\n",
       " 'None',\n",
       " 'True',\n",
       " 'and',\n",
       " 'as',\n",
       " 'assert',\n",
       " 'async',\n",
       " 'await',\n",
       " 'break',\n",
       " 'class',\n",
       " 'continue',\n",
       " 'def',\n",
       " 'del',\n",
       " 'elif',\n",
       " 'else',\n",
       " 'except',\n",
       " 'finally',\n",
       " 'for',\n",
       " 'from',\n",
       " 'global',\n",
       " 'if',\n",
       " 'import',\n",
       " 'in',\n",
       " 'is',\n",
       " 'lambda',\n",
       " 'nonlocal',\n",
       " 'not',\n",
       " 'or',\n",
       " 'pass',\n",
       " 'raise',\n",
       " 'return',\n",
       " 'try',\n",
       " 'while',\n",
       " 'with',\n",
       " 'yield']"
      ]
     },
     "execution_count": 32,
     "metadata": {},
     "output_type": "execute_result"
    }
   ],
   "source": [
    "import keyword\n",
    "keyword.kwlist"
   ]
  },
  {
   "cell_type": "code",
   "execution_count": 38,
   "id": "8f5f97af-9808-4903-800b-b2e5384c64e3",
   "metadata": {},
   "outputs": [
    {
     "name": "stdin",
     "output_type": "stream",
     "text": [
      "enter the number 10\n"
     ]
    },
    {
     "name": "stdout",
     "output_type": "stream",
     "text": [
      "1\n",
      "2\n",
      "5\n",
      "10\n"
     ]
    }
   ],
   "source": [
    "count=0\n",
    "num=eval(input(\"enter the number\"))\n",
    "for i in range(1,num+1):\n",
    "    if num%i==0:\n",
    "        print(i)"
   ]
  },
  {
   "cell_type": "code",
   "execution_count": 42,
   "id": "2a0f29b3-b719-4ec4-94df-863ac94181c5",
   "metadata": {},
   "outputs": [
    {
     "name": "stdin",
     "output_type": "stream",
     "text": [
      "enter the number 20\n"
     ]
    },
    {
     "name": "stdout",
     "output_type": "stream",
     "text": [
      "1\n",
      "2\n",
      "3\n",
      "4\n",
      "5\n",
      "6\n"
     ]
    }
   ],
   "source": [
    "count=0\n",
    "num=eval(input(\"enter the number\"))\n",
    "for i in range(1,num+1):\n",
    "    if num%i==0:\n",
    "        count=count+1\n",
    "        \n",
    "        print(count)"
   ]
  },
  {
   "cell_type": "code",
   "execution_count": 56,
   "id": "585de388-a9e3-4e10-94e5-eda6a9ed8508",
   "metadata": {},
   "outputs": [
    {
     "name": "stdin",
     "output_type": "stream",
     "text": [
      "enter the number 20\n"
     ]
    },
    {
     "name": "stdout",
     "output_type": "stream",
     "text": [
      "6\n"
     ]
    }
   ],
   "source": [
    "count=0\n",
    "num=eval(input(\"enter the number\"))\n",
    "for i in range(1,num+1):\n",
    "    if num%i==0:\n",
    "        count=count+1\n",
    "        \n",
    "print(count)"
   ]
  },
  {
   "cell_type": "code",
   "execution_count": 53,
   "id": "eb3bb94e-f6f5-40a1-a851-f5156d093912",
   "metadata": {},
   "outputs": [
    {
     "name": "stdin",
     "output_type": "stream",
     "text": [
      "enter the number 10\n"
     ]
    },
    {
     "name": "stdout",
     "output_type": "stream",
     "text": [
      "1\n",
      "2\n",
      "3\n",
      "4\n"
     ]
    }
   ],
   "source": [
    "count=0\n",
    "num=eval(input(\"enter the number\"))\n",
    "for i in range(1,num+1):\n",
    "    if num%i==0:\n",
    "        count=count+1\n",
    "        \n",
    "        print(count)"
   ]
  },
  {
   "cell_type": "code",
   "execution_count": 62,
   "id": "e670254b-08cb-4f94-bb40-9e7bb917a642",
   "metadata": {},
   "outputs": [
    {
     "name": "stdout",
     "output_type": "stream",
     "text": [
      "20\n",
      "1\n"
     ]
    }
   ],
   "source": [
    "summ_a=0\n",
    "summ1=summ_a+i\n",
    "print(summ1)\n",
    "count1=0\n",
    "count2=count1+1\n",
    "print(count2)"
   ]
  },
  {
   "cell_type": "code",
   "execution_count": 79,
   "id": "60f6fbf0-39ac-4781-be24-b779ab26d741",
   "metadata": {},
   "outputs": [
    {
     "name": "stdin",
     "output_type": "stream",
     "text": [
      "enter the number1:  2\n"
     ]
    },
    {
     "name": "stdout",
     "output_type": "stream",
     "text": [
      " the num1 is 2 and num2 is 1 you lost\n"
     ]
    },
    {
     "name": "stdin",
     "output_type": "stream",
     "text": [
      "enter the number1:  1\n"
     ]
    },
    {
     "name": "stdout",
     "output_type": "stream",
     "text": [
      " the num1 is 1 and num2 is 2 you lost\n"
     ]
    },
    {
     "name": "stdin",
     "output_type": "stream",
     "text": [
      "enter the number1:  2\n"
     ]
    },
    {
     "name": "stdout",
     "output_type": "stream",
     "text": [
      " the num1 is 2 and num2 is 2, so you won\n"
     ]
    },
    {
     "name": "stdin",
     "output_type": "stream",
     "text": [
      "enter the number1:  1\n"
     ]
    },
    {
     "name": "stdout",
     "output_type": "stream",
     "text": [
      " the num1 is 1 and num2 is 1, so you won\n"
     ]
    },
    {
     "name": "stdin",
     "output_type": "stream",
     "text": [
      "enter the number1:  2\n"
     ]
    },
    {
     "name": "stdout",
     "output_type": "stream",
     "text": [
      " the num1 is 2 and num2 is 1 you lost\n"
     ]
    }
   ],
   "source": [
    "import random\n",
    "for i in range(5):\n",
    "    num1=eval(input(\"enter the number1: \"))\n",
    "    num2=random.randint(1,3)\n",
    "    if num1==num2:\n",
    "        print(f\" the num1 is {num1} and num2 is {num2}, so you won\")\n",
    "    else:\n",
    "        print(f\" the num1 is {num1} and num2 is {num2} you lost\")"
   ]
  },
  {
   "cell_type": "code",
   "execution_count": 31,
   "id": "4ec41a0d-3770-46ff-92d6-a121e26ef70d",
   "metadata": {},
   "outputs": [
    {
     "data": {
      "text/plain": [
       "240"
      ]
     },
     "execution_count": 31,
     "metadata": {},
     "output_type": "execute_result"
    }
   ],
   "source": [
    "l1=[80,60,100]\n",
    "sum(l1)"
   ]
  },
  {
   "cell_type": "code",
   "execution_count": 82,
   "id": "19de742a-ad3d-4f70-b4ec-05ddad138d49",
   "metadata": {},
   "outputs": [
    {
     "name": "stdin",
     "output_type": "stream",
     "text": [
      "Enter your number (num1):  20\n",
      "Enter your number (num2):  21\n"
     ]
    },
    {
     "name": "stdout",
     "output_type": "stream",
     "text": [
      "Your account is locked. Try again after 24 hours.\n"
     ]
    },
    {
     "name": "stdin",
     "output_type": "stream",
     "text": [
      "Enter your number (num1):  43\n",
      "Enter your number (num2):  42\n"
     ]
    },
    {
     "name": "stdout",
     "output_type": "stream",
     "text": [
      "Your account is locked. Try again after 24 hours.\n"
     ]
    },
    {
     "name": "stdin",
     "output_type": "stream",
     "text": [
      "Enter your number (num1):  76\n",
      "Enter your number (num2):  76\n"
     ]
    },
    {
     "name": "stdout",
     "output_type": "stream",
     "text": [
      "You won!\n"
     ]
    }
   ],
   "source": [
    "for i in range(5):\n",
    "    num1 = int(input(\"Enter your number (num1): \"))\n",
    "    num2 = int(input(\"Enter your number (num2): \"))\n",
    "    \n",
    "    # Check the condition\n",
    "    if num1 == num2:\n",
    "        print(\"You won!\")\n",
    "        break\n",
    "    else:\n",
    "        i -= 1\n",
    "        if i > 0:\n",
    "            print(f\"Incorrect! You have {chances} chances left.\")\n",
    "        else:\n",
    "            print(\"Your account is locked. Try again after 24 hours.\")"
   ]
  },
  {
   "cell_type": "code",
   "execution_count": 84,
   "id": "3703f1c6-1f42-4d9a-8cf7-21ba92575d7a",
   "metadata": {},
   "outputs": [
    {
     "name": "stdin",
     "output_type": "stream",
     "text": [
      "Enter your number (num2):  67\n"
     ]
    },
    {
     "name": "stdout",
     "output_type": "stream",
     "text": [
      "Incorrect! You have 4 chances left.\n"
     ]
    },
    {
     "name": "stdin",
     "output_type": "stream",
     "text": [
      "Enter your number (num2):  76\n"
     ]
    },
    {
     "name": "stdout",
     "output_type": "stream",
     "text": [
      "Incorrect! You have 3 chances left.\n"
     ]
    },
    {
     "name": "stdin",
     "output_type": "stream",
     "text": [
      "Enter your number (num2):  87\n"
     ]
    },
    {
     "name": "stdout",
     "output_type": "stream",
     "text": [
      "Incorrect! You have 2 chances left.\n"
     ]
    },
    {
     "name": "stdin",
     "output_type": "stream",
     "text": [
      "Enter your number (num2):  45\n"
     ]
    },
    {
     "name": "stdout",
     "output_type": "stream",
     "text": [
      "Incorrect! You have 1 chances left.\n"
     ]
    },
    {
     "name": "stdin",
     "output_type": "stream",
     "text": [
      "Enter your number (num2):  34\n"
     ]
    },
    {
     "name": "stdout",
     "output_type": "stream",
     "text": [
      "Your account is locked. Try again after 24 hours.\n"
     ]
    }
   ],
   "source": [
    "# Initialize variables\n",
    "chances = 5  # Total chances\n",
    "correct_num = 42  # You can set this to any number or make it user-defined\n",
    "\n",
    "while chances > 0:\n",
    "    # Take input from the user\n",
    "\n",
    "    num2 = int(input(\"Enter your number (num2): \"))\n",
    "    \n",
    "    # Check the condition\n",
    "    if num2 == correct_num:\n",
    "        print(\"You won!\")\n",
    "        break\n",
    "    else:\n",
    "        chances -= 1\n",
    "        if chances > 0:\n",
    "            print(f\"Incorrect! You have {chances} chances left.\")\n",
    "        else:\n",
    "            print(\"Your account is locked. Try again after 24 hours.\")"
   ]
  },
  {
   "cell_type": "code",
   "execution_count": 86,
   "id": "62ee4520-a5fd-4812-b05d-a310df618210",
   "metadata": {},
   "outputs": [
    {
     "name": "stdin",
     "output_type": "stream",
     "text": [
      "Enter your number (num2):  56\n"
     ]
    },
    {
     "name": "stdout",
     "output_type": "stream",
     "text": [
      "Incorrect! You have 4 chances left.\n"
     ]
    },
    {
     "name": "stdin",
     "output_type": "stream",
     "text": [
      "Enter your number (num2):  42\n"
     ]
    },
    {
     "name": "stdout",
     "output_type": "stream",
     "text": [
      "You won!\n"
     ]
    }
   ],
   "source": [
    "# Initialize variables\n",
    "chances = 5  # Total chances\n",
    "correct_num = 42  # The correct number to guess\n",
    "\n",
    "for attempt in range(chances, 0, -1):  # Loop from `chances` to 1\n",
    "    # Take input from the user\n",
    "    num2 = int(input(\"Enter your number (num2): \"))\n",
    "    \n",
    "    # Check the condition\n",
    "    if num2 == correct_num:\n",
    "        print(\"You won!\")\n",
    "        break\n",
    "    else:\n",
    "        if attempt > 1:\n",
    "            print(f\"Incorrect! You have {attempt - 1} chances left.\")\n",
    "        else:\n",
    "            print(\"Your account is locked. Try again after 24 hours.\")"
   ]
  },
  {
   "cell_type": "code",
   "execution_count": 88,
   "id": "a27f68bd-e3d4-447d-82d2-9029219a4264",
   "metadata": {},
   "outputs": [
    {
     "name": "stdin",
     "output_type": "stream",
     "text": [
      "Enter your number (num2):  65\n"
     ]
    },
    {
     "name": "stdout",
     "output_type": "stream",
     "text": [
      "Incorrect! You have 4 chances left.\n"
     ]
    },
    {
     "name": "stdin",
     "output_type": "stream",
     "text": [
      "Enter your number (num2):  76\n"
     ]
    },
    {
     "name": "stdout",
     "output_type": "stream",
     "text": [
      "Incorrect! You have 3 chances left.\n"
     ]
    },
    {
     "name": "stdin",
     "output_type": "stream",
     "text": [
      "Enter your number (num2):  90\n"
     ]
    },
    {
     "name": "stdout",
     "output_type": "stream",
     "text": [
      "Incorrect! You have 2 chances left.\n"
     ]
    },
    {
     "name": "stdin",
     "output_type": "stream",
     "text": [
      "Enter your number (num2):  50\n"
     ]
    },
    {
     "name": "stdout",
     "output_type": "stream",
     "text": [
      "Incorrect! You have 1 chances left.\n"
     ]
    },
    {
     "name": "stdin",
     "output_type": "stream",
     "text": [
      "Enter your number (num2):  70\n"
     ]
    },
    {
     "name": "stdout",
     "output_type": "stream",
     "text": [
      "Your account is locked. Try again after 24 hours.\n"
     ]
    }
   ],
   "source": [
    "correct_num = 42  # The correct number to guess\n",
    "\n",
    "for i in range(5):  # Loop for 5 attempts\n",
    "    # Take input from the user\n",
    "    num2 = int(input(\"Enter your number (num2): \"))\n",
    "    \n",
    "    # Check the condition\n",
    "    if num2 == correct_num:\n",
    "        print(\"You won!\")\n",
    "        break\n",
    "    else:\n",
    "        remaining_chances = 4 - i  # Calculate remaining chances\n",
    "        if remaining_chances > 0:\n",
    "            print(f\"Incorrect! You have {remaining_chances} chances left.\")\n",
    "        else:\n",
    "            print(\"Your account is locked. Try again after 24 hours.\")\n"
   ]
  },
  {
   "cell_type": "code",
   "execution_count": 97,
   "id": "0ea9f7f2-2e57-424e-941c-490c8bd22379",
   "metadata": {},
   "outputs": [
    {
     "name": "stdin",
     "output_type": "stream",
     "text": [
      "enter the num2 876\n"
     ]
    },
    {
     "name": "stdout",
     "output_type": "stream",
     "text": [
      " invalid password you have 2 chances left\n"
     ]
    },
    {
     "name": "stdin",
     "output_type": "stream",
     "text": [
      "enter the num2 786\n"
     ]
    },
    {
     "name": "stdout",
     "output_type": "stream",
     "text": [
      "Masha Allah you logged in Sucessfully\n"
     ]
    }
   ],
   "source": [
    "for i in range(3):\n",
    "    num1=786\n",
    "    num2=eval(input(\"enter the num2\"))\n",
    "    if num1==num2:\n",
    "        print(\"Masha Allah you logged in Sucessfully\")\n",
    "        break\n",
    "    else:\n",
    "        remaining_chances=2-i\n",
    "        if remaining_chances>0:\n",
    "            print(f\" invalid password you have {remaining_chances} chances left\")\n",
    "        else:\n",
    "            print(\"your account has been locked try after 24 hours\")"
   ]
  },
  {
   "cell_type": "code",
   "execution_count": 104,
   "id": "36971fa0-dff6-4c3a-ad97-b559f54793b5",
   "metadata": {},
   "outputs": [
    {
     "name": "stdin",
     "output_type": "stream",
     "text": [
      "enter the num2:  888\n"
     ]
    },
    {
     "name": "stdout",
     "output_type": "stream",
     "text": [
      " incorrect you have 3 chances left\n"
     ]
    },
    {
     "name": "stdin",
     "output_type": "stream",
     "text": [
      "enter the num2:  777\n"
     ]
    },
    {
     "name": "stdout",
     "output_type": "stream",
     "text": [
      " incorrect you have 2 chances left\n"
     ]
    },
    {
     "name": "stdin",
     "output_type": "stream",
     "text": [
      "enter the num2:  666\n"
     ]
    },
    {
     "name": "stdout",
     "output_type": "stream",
     "text": [
      "Congratulations you logged in Sucessfully\n"
     ]
    }
   ],
   "source": [
    "for i in range(4):\n",
    "    num1=666\n",
    "    num2=eval(input(\"enter the num2: \"))\n",
    "    if num1==num2:\n",
    "        print(\"Congratulations you logged in Sucessfully\")\n",
    "        break\n",
    "    else:\n",
    "        pending=3-i\n",
    "        if pending>0:\n",
    "            print(f\" incorrect you have {pending} chances left\")\n",
    "        else:\n",
    "            print(f\"you account has been locked try after 24 hours\")"
   ]
  },
  {
   "cell_type": "code",
   "execution_count": 108,
   "id": "c212131c-3579-4b9c-904c-b72ba354a64f",
   "metadata": {},
   "outputs": [
    {
     "data": {
      "text/plain": [
       "True"
      ]
     },
     "execution_count": 108,
     "metadata": {},
     "output_type": "execute_result"
    }
   ],
   "source": [
    "name='abc'\n",
    "'a' in name\n",
    "'b' in name\n",
    "'d' in name\n",
    "'c' in name"
   ]
  },
  {
   "cell_type": "code",
   "execution_count": 109,
   "id": "8087736e-0f30-4783-b9db-5fce84294b66",
   "metadata": {},
   "outputs": [
    {
     "data": {
      "text/plain": [
       "True"
      ]
     },
     "execution_count": 109,
     "metadata": {},
     "output_type": "execute_result"
    }
   ],
   "source": [
    "'a'>'A'"
   ]
  },
  {
   "cell_type": "code",
   "execution_count": 110,
   "id": "3b867aff-c2c3-4dcd-bae2-a439ddb6b75c",
   "metadata": {},
   "outputs": [
    {
     "data": {
      "text/plain": [
       "False"
      ]
     },
     "execution_count": 110,
     "metadata": {},
     "output_type": "execute_result"
    }
   ],
   "source": [
    "'B'>'b'"
   ]
  },
  {
   "cell_type": "code",
   "execution_count": 111,
   "id": "20e026c8-5f29-40ae-8f3e-c8243e64f222",
   "metadata": {},
   "outputs": [
    {
     "data": {
      "text/plain": [
       "['__call__',\n",
       " '__class__',\n",
       " '__delattr__',\n",
       " '__dir__',\n",
       " '__doc__',\n",
       " '__eq__',\n",
       " '__format__',\n",
       " '__ge__',\n",
       " '__getattribute__',\n",
       " '__getstate__',\n",
       " '__gt__',\n",
       " '__hash__',\n",
       " '__init__',\n",
       " '__init_subclass__',\n",
       " '__le__',\n",
       " '__lt__',\n",
       " '__module__',\n",
       " '__name__',\n",
       " '__ne__',\n",
       " '__new__',\n",
       " '__qualname__',\n",
       " '__reduce__',\n",
       " '__reduce_ex__',\n",
       " '__repr__',\n",
       " '__self__',\n",
       " '__setattr__',\n",
       " '__sizeof__',\n",
       " '__str__',\n",
       " '__subclasshook__',\n",
       " '__text_signature__']"
      ]
     },
     "execution_count": 111,
     "metadata": {},
     "output_type": "execute_result"
    }
   ],
   "source": [
    "dir(ord)"
   ]
  },
  {
   "cell_type": "code",
   "execution_count": 119,
   "id": "862cb2c6-a2d3-49bc-b1e7-14feada011b2",
   "metadata": {},
   "outputs": [
    {
     "name": "stdout",
     "output_type": "stream",
     "text": [
      "a 97\n",
      "b 98\n",
      "c 99\n",
      "d 100\n",
      "e 101\n",
      "f 102\n",
      "g 103\n",
      "h 104\n",
      "i 105\n",
      "j 106\n",
      "k 107\n",
      "l 108\n",
      "m 109\n",
      "n 110\n",
      "o 111\n",
      "p 112\n",
      "q 113\n",
      "r 114\n",
      "s 115\n",
      "t 116\n",
      "u 117\n",
      "v 118\n",
      "w 119\n",
      "x 120\n",
      "y 121\n",
      "z 122\n"
     ]
    }
   ],
   "source": [
    "for i in 'abcdefghijklmnopqrstuvwxyz':\n",
    "    print(i,ord(i))"
   ]
  },
  {
   "cell_type": "code",
   "execution_count": 120,
   "id": "3a46d1dd-bf1b-43f6-9b9d-2dcaf4e17c44",
   "metadata": {},
   "outputs": [
    {
     "name": "stdout",
     "output_type": "stream",
     "text": [
      "49\n"
     ]
    }
   ],
   "source": [
    "print(ord('1'))  # Output: 49"
   ]
  },
  {
   "cell_type": "code",
   "execution_count": 121,
   "id": "0d65e770-a94c-4e8f-a114-36488300a018",
   "metadata": {},
   "outputs": [
    {
     "name": "stdout",
     "output_type": "stream",
     "text": [
      "Character: 1, Unicode: 49\n",
      "Character: 5, Unicode: 53\n"
     ]
    }
   ],
   "source": [
    "number = \"15\"\n",
    "for char in number:\n",
    "    print(f\"Character: {char}, Unicode: {ord(char)}\")\n"
   ]
  },
  {
   "cell_type": "code",
   "execution_count": 150,
   "id": "2a94389c-7247-43d0-b937-f031d196cd1e",
   "metadata": {},
   "outputs": [
    {
     "data": {
      "text/plain": [
       "'abcdefghijklmnopqrstuvwxyzABCDEFGHIJKLMNOPQRSTUVWXYZ'"
      ]
     },
     "execution_count": 150,
     "metadata": {},
     "output_type": "execute_result"
    }
   ],
   "source": [
    "import string\n",
    "string.ascii_letters"
   ]
  },
  {
   "cell_type": "code",
   "execution_count": 152,
   "id": "106dec2f-a458-4964-9d6b-2b386904ce08",
   "metadata": {},
   "outputs": [
    {
     "data": {
      "text/plain": [
       "'abcdefghijklmnopqrstuvwxyz'"
      ]
     },
     "execution_count": 152,
     "metadata": {},
     "output_type": "execute_result"
    }
   ],
   "source": [
    "string.ascii_lowercase"
   ]
  },
  {
   "cell_type": "code",
   "execution_count": 154,
   "id": "be629f6d-cc24-4603-837e-3db1cdbb157c",
   "metadata": {},
   "outputs": [
    {
     "data": {
      "text/plain": [
       "'ABCDEFGHIJKLMNOPQRSTUVWXYZ'"
      ]
     },
     "execution_count": 154,
     "metadata": {},
     "output_type": "execute_result"
    }
   ],
   "source": [
    "string.ascii_uppercase"
   ]
  },
  {
   "cell_type": "code",
   "execution_count": 167,
   "id": "933c1ef9-57c9-40cf-b5b7-6eb187e36930",
   "metadata": {},
   "outputs": [
    {
     "name": "stdout",
     "output_type": "stream",
     "text": [
      "33:! 34:\" 35:# 36:$ 37:% 38:& 39:' 40:( 41:) 42:* 43:+ 44:, 45:- 46:. 47:/ 48:0 49:1 50:2 51:3 52:4 53:5 54:6 55:7 56:8 57:9 58:: 59:; 60:< 61:= 62:> 63:? 64:@ 65:A 66:B 67:C 68:D 69:E 70:F 71:G 72:H 73:I 74:J 75:K 76:L 77:M 78:N 79:O 80:P 81:Q 82:R 83:S 84:T 85:U 86:V 87:W 88:X 89:Y 90:Z 91:[ 92:\\ 93:] 94:^ 95:_ 96:` 97:a 98:b 99:c 100:d 101:e 102:f 103:g 104:h 105:i 106:j 107:k 108:l 109:m 110:n 111:o 112:p 113:q 114:r 115:s 116:t 117:u 118:v 119:w 120:x 121:y 122:z 123:{ 124:| 125:} 126:~ "
     ]
    }
   ],
   "source": [
    "for i in range(33,127):\n",
    "    print(f\"{i}:{chr(i)}\", end=' ')"
   ]
  },
  {
   "cell_type": "code",
   "execution_count": null,
   "id": "7987f1dc-d3fa-410b-8239-aded6ac66e28",
   "metadata": {},
   "outputs": [],
   "source": []
  }
 ],
 "metadata": {
  "kernelspec": {
   "display_name": "Python 3 (ipykernel)",
   "language": "python",
   "name": "python3"
  },
  "language_info": {
   "codemirror_mode": {
    "name": "ipython",
    "version": 3
   },
   "file_extension": ".py",
   "mimetype": "text/x-python",
   "name": "python",
   "nbconvert_exporter": "python",
   "pygments_lexer": "ipython3",
   "version": "3.11.7"
  }
 },
 "nbformat": 4,
 "nbformat_minor": 5
}
